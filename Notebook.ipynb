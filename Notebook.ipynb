{
  "metadata": {
    "kernelspec": {
      "language": "python",
      "display_name": "Python 3",
      "name": "python3"
    },
    "language_info": {
      "name": "python",
      "version": "3.10.12",
      "mimetype": "text/x-python",
      "codemirror_mode": {
        "name": "ipython",
        "version": 3
      },
      "pygments_lexer": "ipython3",
      "nbconvert_exporter": "python",
      "file_extension": ".py"
    },
    "kaggle": {
      "accelerator": "none",
      "dataSources": [
        {
          "sourceId": 90791,
          "databundleVersionId": 10592855,
          "sourceType": "competition"
        }
      ],
      "dockerImageVersionId": 30822,
      "isInternetEnabled": false,
      "language": "python",
      "sourceType": "notebook",
      "isGpuEnabled": false
    },
    "colab": {
      "name": "Fork of 22f3003055-notebook-t12025 f3901a",
      "provenance": []
    }
  },
  "nbformat_minor": 0,
  "nbformat": 4,
  "cells": [
    {
      "source": [
        "# IMPORTANT: SOME KAGGLE DATA SOURCES ARE PRIVATE\n",
        "# RUN THIS CELL IN ORDER TO IMPORT YOUR KAGGLE DATA SOURCES.\n",
        "import kagglehub\n",
        "kagglehub.login()\n"
      ],
      "metadata": {
        "id": "DiGXgpcK-AJ-"
      },
      "cell_type": "code",
      "outputs": [],
      "execution_count": null
    },
    {
      "source": [
        "# IMPORTANT: RUN THIS CELL IN ORDER TO IMPORT YOUR KAGGLE DATA SOURCES,\n",
        "# THEN FEEL FREE TO DELETE THIS CELL.\n",
        "# NOTE: THIS NOTEBOOK ENVIRONMENT DIFFERS FROM KAGGLE'S PYTHON\n",
        "# ENVIRONMENT SO THERE MAY BE MISSING LIBRARIES USED BY YOUR\n",
        "# NOTEBOOK.\n",
        "\n",
        "system_threat_forecaster_path = kagglehub.competition_download('System-Threat-Forecaster')\n",
        "\n",
        "print('Data source import complete.')\n"
      ],
      "metadata": {
        "id": "wlwy8dC--AKC"
      },
      "cell_type": "code",
      "outputs": [],
      "execution_count": null
    },
    {
      "cell_type": "markdown",
      "source": [
        "# Importing Necessary Packages"
      ],
      "metadata": {
        "id": "49YLQ8AY-AKE"
      }
    },
    {
      "cell_type": "code",
      "source": [
        "# ================================\n",
        "# 📌 Essential Libraries for ML Workflow\n",
        "# ================================\n",
        "\n",
        "# 📊 Data Manipulation & Numerical Computation\n",
        "import pandas as pd  # Efficient data handling & processing\n",
        "import numpy as np  # Numerical operations & array manipulation\n",
        "\n",
        "# 📈 Data Visualization\n",
        "import matplotlib.pyplot as plt  # Basic plotting functions\n",
        "import seaborn as sns  # Advanced & aesthetic statistical visualizations\n",
        "\n",
        "# 🔍 Model Selection & Evaluation\n",
        "from sklearn.model_selection import (\n",
        "    train_test_split,  # Splitting dataset into training & validation sets\n",
        "    cross_val_score,  # Evaluating model performance via cross-validation\n",
        "    StratifiedKFold  # Ensuring class balance in K-Fold cross-validation\n",
        ")\n",
        "\n",
        "# ⚙️ Data Preprocessing\n",
        "from sklearn.impute import SimpleImputer  # Handling missing values\n",
        "from sklearn.preprocessing import StandardScaler  # Standardizing numerical features\n",
        "from sklearn.preprocessing import OneHotEncoder  # Encoding categorical variables\n",
        "\n",
        "# 🚀 Feature Engineering & Pipelines\n",
        "from sklearn.pipeline import Pipeline  # Creating streamlined ML workflows\n",
        "from sklearn.decomposition import PCA  # Dimensionality reduction\n",
        "from sklearn.feature_selection import SelectKBest, chi2  # Selecting best features\n",
        "from sklearn.compose import ColumnTransformer  # Handling multiple transformations efficiently\n",
        "\n",
        "# 🏆 Machine Learning Models\n",
        "from sklearn.linear_model import (\n",
        "    LogisticRegression,  # Logistic Regression for classification\n",
        "    SGDClassifier  # Stochastic Gradient Descent (SGD) classifier\n",
        ")\n",
        "from sklearn.ensemble import RandomForestClassifier  # Random Forest ensemble model\n",
        "\n",
        "# 🚀 Gradient Boosting Models (Boosted Trees)\n",
        "from xgboost import XGBClassifier  # XGBoost: High-performance gradient boosting\n",
        "from lightgbm import LGBMClassifier  # LightGBM: Fast & efficient boosting\n",
        "\n",
        "# 🔧 Hyperparameter Tuning\n",
        "from sklearn.model_selection import GridSearchCV  # Fine-tuning models for best performance\n"
      ],
      "metadata": {
        "trusted": true,
        "execution": {
          "iopub.status.busy": "2025-03-12T17:43:35.371914Z",
          "iopub.execute_input": "2025-03-12T17:43:35.37231Z",
          "iopub.status.idle": "2025-03-12T17:43:38.961538Z",
          "shell.execute_reply.started": "2025-03-12T17:43:35.372277Z",
          "shell.execute_reply": "2025-03-12T17:43:38.960315Z"
        },
        "id": "iVsFOT7G-AKG"
      },
      "outputs": [],
      "execution_count": null
    },
    {
      "cell_type": "markdown",
      "source": [
        "# Data Loading"
      ],
      "metadata": {
        "id": "anTIHyxV-AKI"
      }
    },
    {
      "cell_type": "code",
      "source": [
        "train_data=pd.read_csv('/kaggle/input/System-Threat-Forecaster/train.csv')\n",
        "test_data=pd.read_csv('/kaggle/input/System-Threat-Forecaster/test.csv')"
      ],
      "metadata": {
        "trusted": true,
        "execution": {
          "iopub.status.busy": "2025-03-12T17:43:57.876256Z",
          "iopub.execute_input": "2025-03-12T17:43:57.876961Z",
          "iopub.status.idle": "2025-03-12T17:44:00.294321Z",
          "shell.execute_reply.started": "2025-03-12T17:43:57.876927Z",
          "shell.execute_reply": "2025-03-12T17:44:00.293253Z"
        },
        "id": "hKYkT_6w-AKJ"
      },
      "outputs": [],
      "execution_count": null
    },
    {
      "cell_type": "code",
      "source": [
        "# Set option to display all rows\n",
        "pd.set_option('display.max_rows', None)\n",
        "\n",
        "# Set option to display all columns\n",
        "pd.set_option('display.max_columns', None)\n"
      ],
      "metadata": {
        "trusted": true,
        "execution": {
          "iopub.status.busy": "2025-03-12T12:12:16.883228Z",
          "iopub.execute_input": "2025-03-12T12:12:16.88369Z",
          "iopub.status.idle": "2025-03-12T12:12:16.888202Z",
          "shell.execute_reply.started": "2025-03-12T12:12:16.883659Z",
          "shell.execute_reply": "2025-03-12T12:12:16.887026Z"
        },
        "id": "iDcbx66k-AKJ"
      },
      "outputs": [],
      "execution_count": null
    },
    {
      "cell_type": "code",
      "source": [
        "train_data.head()"
      ],
      "metadata": {
        "trusted": true,
        "execution": {
          "iopub.status.busy": "2025-03-12T12:12:16.889303Z",
          "iopub.execute_input": "2025-03-12T12:12:16.889742Z",
          "iopub.status.idle": "2025-03-12T12:12:16.965074Z",
          "shell.execute_reply.started": "2025-03-12T12:12:16.88971Z",
          "shell.execute_reply": "2025-03-12T12:12:16.963978Z"
        },
        "id": "UpVkKKLu-AKK"
      },
      "outputs": [],
      "execution_count": null
    },
    {
      "cell_type": "code",
      "source": [
        "print(f\"\\033[1mShape of the training data is:\\033[0m {train_data.shape}\")"
      ],
      "metadata": {
        "trusted": true,
        "execution": {
          "iopub.status.busy": "2025-03-12T12:12:16.966173Z",
          "iopub.execute_input": "2025-03-12T12:12:16.966578Z",
          "iopub.status.idle": "2025-03-12T12:12:16.971944Z",
          "shell.execute_reply.started": "2025-03-12T12:12:16.966546Z",
          "shell.execute_reply": "2025-03-12T12:12:16.971025Z"
        },
        "id": "EwLWuIsS-AKL"
      },
      "outputs": [],
      "execution_count": null
    },
    {
      "cell_type": "markdown",
      "source": [
        "# Data Exploration"
      ],
      "metadata": {
        "id": "bnLfC9iu-AKM"
      }
    },
    {
      "cell_type": "code",
      "source": [
        "# Examine data types\n",
        "print(\"\\033[1mData Types:\\033[0m\")\n",
        "print(train_data.info())"
      ],
      "metadata": {
        "trusted": true,
        "execution": {
          "iopub.status.busy": "2025-03-12T12:12:16.972984Z",
          "iopub.execute_input": "2025-03-12T12:12:16.973365Z",
          "iopub.status.idle": "2025-03-12T12:12:17.142239Z",
          "shell.execute_reply.started": "2025-03-12T12:12:16.973326Z",
          "shell.execute_reply": "2025-03-12T12:12:17.141257Z"
        },
        "id": "h_5CftfC-AKM"
      },
      "outputs": [],
      "execution_count": null
    },
    {
      "cell_type": "code",
      "source": [
        "# Check for missing values\n",
        "missing_values = train_data.isnull().sum()\n",
        "missing_percentage = (missing_values / train_data.shape[0]) * 100\n",
        "print(\"\\033[1m\\nMissing Values (Percentage):\\033[0m\")\n",
        "print(missing_percentage[missing_percentage > 0].sort_values(ascending=False))\n"
      ],
      "metadata": {
        "trusted": true,
        "execution": {
          "iopub.status.busy": "2025-03-12T12:12:17.143227Z",
          "iopub.execute_input": "2025-03-12T12:12:17.14362Z",
          "iopub.status.idle": "2025-03-12T12:12:17.301Z",
          "shell.execute_reply.started": "2025-03-12T12:12:17.143584Z",
          "shell.execute_reply": "2025-03-12T12:12:17.299928Z"
        },
        "id": "prowhtet-AKN"
      },
      "outputs": [],
      "execution_count": null
    },
    {
      "cell_type": "code",
      "source": [
        "# Unique value counts\n",
        "print(\"\\033[1m\\nUnique Value Counts:\\033[0m\")\n",
        "for col in train_data.columns:\n",
        "    print(f\"{col}: {train_data[col].nunique()}\")"
      ],
      "metadata": {
        "trusted": true,
        "execution": {
          "iopub.status.busy": "2025-03-12T12:12:17.305124Z",
          "iopub.execute_input": "2025-03-12T12:12:17.305548Z",
          "iopub.status.idle": "2025-03-12T12:12:17.575296Z",
          "shell.execute_reply.started": "2025-03-12T12:12:17.305489Z",
          "shell.execute_reply": "2025-03-12T12:12:17.574177Z"
        },
        "id": "-qxLd06e-AKN"
      },
      "outputs": [],
      "execution_count": null
    },
    {
      "cell_type": "code",
      "source": [
        "# Summary statistics for numerical features\n",
        "print(\"\\033[1m\\nSummary Statistics for Numerical Features:\\033[0m\")\n",
        "print(train_data.describe())"
      ],
      "metadata": {
        "trusted": true,
        "execution": {
          "iopub.status.busy": "2025-03-12T12:12:17.5774Z",
          "iopub.execute_input": "2025-03-12T12:12:17.577746Z",
          "iopub.status.idle": "2025-03-12T12:12:17.858801Z",
          "shell.execute_reply.started": "2025-03-12T12:12:17.577718Z",
          "shell.execute_reply": "2025-03-12T12:12:17.857647Z"
        },
        "id": "BVrXSmqz-AKN"
      },
      "outputs": [],
      "execution_count": null
    },
    {
      "cell_type": "code",
      "source": [
        "# Summary statistics for categorical features\n",
        "print(\"\\033[1m\\nSummary Statistics for Categorical Features:\\033[0m\")\n",
        "print(train_data.describe(include=[object]))"
      ],
      "metadata": {
        "trusted": true,
        "execution": {
          "iopub.status.busy": "2025-03-12T12:12:17.859757Z",
          "iopub.execute_input": "2025-03-12T12:12:17.86005Z",
          "iopub.status.idle": "2025-03-12T12:12:18.320223Z",
          "shell.execute_reply.started": "2025-03-12T12:12:17.860023Z",
          "shell.execute_reply": "2025-03-12T12:12:18.319248Z"
        },
        "id": "EVQTbX6u-AKO"
      },
      "outputs": [],
      "execution_count": null
    },
    {
      "cell_type": "markdown",
      "source": [
        "# Data visualization"
      ],
      "metadata": {
        "id": "LS3p6I1o-AKO"
      }
    },
    {
      "cell_type": "markdown",
      "source": [
        "## Numerical Features"
      ],
      "metadata": {
        "id": "neepe512-AKP"
      }
    },
    {
      "cell_type": "code",
      "source": [
        "import warnings\n",
        "warnings.filterwarnings(\"ignore\")\n",
        "# warnings.filterwarnings(\"ignore\", category=UserWarning)  # Ignores only UserWarnings\n"
      ],
      "metadata": {
        "trusted": true,
        "execution": {
          "iopub.status.busy": "2025-03-12T12:12:18.321236Z",
          "iopub.execute_input": "2025-03-12T12:12:18.321501Z",
          "iopub.status.idle": "2025-03-12T12:12:18.325854Z",
          "shell.execute_reply.started": "2025-03-12T12:12:18.32148Z",
          "shell.execute_reply": "2025-03-12T12:12:18.324782Z"
        },
        "id": "hxhp5ham-AKP"
      },
      "outputs": [],
      "execution_count": null
    },
    {
      "cell_type": "code",
      "source": [
        "# Histograms for Numerical Features\n",
        "numerical_features = train_data.select_dtypes(include=['number']).columns\n",
        "num_numerical = len(numerical_features)\n",
        "rows = (num_numerical + 4) // 5  # Calculate rows for subplots\n",
        "plt.figure(figsize=(20, rows * 4))\n",
        "for i, col in enumerate(numerical_features):\n",
        "    plt.subplot(rows, 5, i + 1)\n",
        "    sns.histplot(train_data[col], kde=True)\n",
        "    plt.title(col)\n",
        "    plt.xticks(rotation=45, ha='right') # Rotate x-axis labels for better readability\n",
        "plt.tight_layout()\n",
        "plt.show()"
      ],
      "metadata": {
        "trusted": true,
        "execution": {
          "iopub.status.busy": "2025-03-12T12:12:18.326857Z",
          "iopub.execute_input": "2025-03-12T12:12:18.327236Z",
          "iopub.status.idle": "2025-03-12T12:13:00.84503Z",
          "shell.execute_reply.started": "2025-03-12T12:12:18.327201Z",
          "shell.execute_reply": "2025-03-12T12:13:00.843507Z"
        },
        "id": "8PF28DPP-AKP"
      },
      "outputs": [],
      "execution_count": null
    },
    {
      "cell_type": "code",
      "source": [
        "# Box plots for numerical features\n",
        "for col in numerical_features:\n",
        "    plt.figure(figsize=(8, 4))\n",
        "    sns.boxplot(y=train_data[col])\n",
        "    plt.title(f'Boxplot of {col}')\n",
        "    plt.show()"
      ],
      "metadata": {
        "trusted": true,
        "execution": {
          "iopub.status.busy": "2025-03-12T12:13:00.846213Z",
          "iopub.execute_input": "2025-03-12T12:13:00.846556Z",
          "iopub.status.idle": "2025-03-12T12:13:11.231775Z",
          "shell.execute_reply.started": "2025-03-12T12:13:00.846511Z",
          "shell.execute_reply": "2025-03-12T12:13:11.230462Z"
        },
        "id": "cY4w7sfZ-AKQ"
      },
      "outputs": [],
      "execution_count": null
    },
    {
      "cell_type": "code",
      "source": [
        "# Correlation matrix heatmap\n",
        "plt.figure(figsize=(12, 10))\n",
        "sns.heatmap(train_data[numerical_features].corr(), annot=False, cmap='coolwarm')\n",
        "plt.title('Correlation Matrix of Numerical Features')\n",
        "plt.show()"
      ],
      "metadata": {
        "trusted": true,
        "execution": {
          "iopub.status.busy": "2025-03-12T12:13:11.233026Z",
          "iopub.execute_input": "2025-03-12T12:13:11.23343Z",
          "iopub.status.idle": "2025-03-12T12:13:12.892589Z",
          "shell.execute_reply.started": "2025-03-12T12:13:11.233386Z",
          "shell.execute_reply": "2025-03-12T12:13:12.891219Z"
        },
        "id": "SRDiTTkQ-AKQ"
      },
      "outputs": [],
      "execution_count": null
    },
    {
      "cell_type": "code",
      "source": [
        "correlation_matrix = train_data.select_dtypes(include=['number']).corr()\n",
        "\n",
        "# Get correlations of all features with the target column\n",
        "correlations = correlation_matrix['target'].drop('target')\n",
        "\n",
        "# Find most positively and negatively correlated features\n",
        "most_positive_feature = correlations.idxmax()\n",
        "most_negative_feature = correlations.idxmin()\n",
        "\n",
        "print(f\"📈 Most Positively Correlated Feature: {most_positive_feature} (Correlation: {correlations.max():.4f})\")\n",
        "print(f\"📉 Most Negatively Correlated Feature: {most_negative_feature} (Correlation: {correlations.min():.4f})\")\n"
      ],
      "metadata": {
        "trusted": true,
        "execution": {
          "iopub.status.busy": "2025-03-12T12:13:12.893761Z",
          "iopub.execute_input": "2025-03-12T12:13:12.894141Z",
          "iopub.status.idle": "2025-03-12T12:13:13.557876Z",
          "shell.execute_reply.started": "2025-03-12T12:13:12.894107Z",
          "shell.execute_reply": "2025-03-12T12:13:13.556951Z"
        },
        "id": "2iJAf5ii-AKQ"
      },
      "outputs": [],
      "execution_count": null
    },
    {
      "cell_type": "markdown",
      "source": [
        "## Categorical Features"
      ],
      "metadata": {
        "id": "NA6MhdKq-AKR"
      }
    },
    {
      "cell_type": "code",
      "source": [
        "print(\"\\033[1mDistribution of  Categorical variable:\\033[1m\")\n",
        "# Visualizing key categorical variables\n",
        "fig, axes = plt.subplots(4, 4, figsize=(12, 10))\n",
        "sns.countplot(y=train_data['ProductName'], order=train_data['ProductName'].value_counts().index, ax=axes[0, 0], palette='viridis')\n",
        "axes[0, 0].set_title(\"Product Name Distribution\")\n",
        "\n",
        "sns.countplot(y=train_data['PlatformType'], order=train_data['PlatformType'].value_counts().index, ax=axes[0, 1], palette='viridis')\n",
        "axes[0, 1].set_title(\"Platform Type Distribution\")\n",
        "\n",
        "sns.countplot(y=train_data['Processor'], order=train_data['Processor'].value_counts().index, ax=axes[0, 2], palette='viridis')\n",
        "axes[0, 2].set_title(\"Processor Distribution\")\n",
        "\n",
        "sns.countplot(y=train_data['PowerPlatformRole'], order=train_data['PowerPlatformRole'].value_counts().index, ax=axes[0, 3], palette='viridis')\n",
        "axes[0, 3].set_title(\"Power Platform Role Distribution\")\n",
        "\n",
        "sns.countplot(y=train_data['OSVersion'], order=train_data['OSVersion'].value_counts().index, ax=axes[1, 0], palette='viridis')\n",
        "axes[1, 0].set_title(\"OS Version Distribution\")\n",
        "\n",
        "sns.countplot(y=train_data['OsPlatformSubRelease'], order=train_data['OsPlatformSubRelease'].value_counts().index, ax=axes[1, 1], palette='viridis')\n",
        "axes[1, 1].set_title(\"Os Platform Sub Release Distribution\")\n",
        "\n",
        "sns.countplot(y=train_data['SKUEditionName'], order=train_data['SKUEditionName'].value_counts().index, ax=axes[1, 2], palette='viridis')\n",
        "axes[1, 2].set_title(\"SKU Edition Name Distribution\")\n",
        "\n",
        "sns.countplot(y=train_data['OSArchitecture'], order=train_data['OSArchitecture'].value_counts().index, ax=axes[1, 3], palette='viridis')\n",
        "axes[1, 3].set_title(\"OS Architecture Distribution\")\n",
        "\n",
        "sns.countplot(y=train_data['MDC2FormFactor'], order=train_data['MDC2FormFactor'].value_counts().index, ax=axes[2, 0], palette='viridis')\n",
        "axes[2, 0].set_title(\"MDC 2 Form Factor Distribution\")\n",
        "\n",
        "sns.countplot(y=train_data['DeviceFamily'], order=train_data['DeviceFamily'].value_counts().index, ax=axes[2, 1], palette='viridis')\n",
        "axes[2, 1].set_title(\"Device Family Distribution\")\n",
        "\n",
        "sns.countplot(y=train_data['PrimaryDiskType'], order=train_data['PrimaryDiskType'].value_counts().index, ax=axes[2, 2], palette='viridis')\n",
        "axes[2, 2].set_title(\"Primary Disk Type Distribution\")\n",
        "\n",
        "sns.countplot(y=train_data['OSBranch'], order=train_data['OSBranch'].value_counts().index, ax=axes[2, 3], palette='viridis')\n",
        "axes[2, 3].set_title(\"OS Branch Distribution\")\n",
        "\n",
        "sns.countplot(y=train_data['OSInstallType'], order=train_data['OSInstallType'].value_counts().index, ax=axes[3, 0], palette='viridis')\n",
        "axes[3, 0].set_title(\"OS Install Type Distribution\")\n",
        "\n",
        "sns.countplot(y=train_data['OSGenuineState'], order=train_data['OSGenuineState'].value_counts().index, ax=axes[3, 1], palette='viridis')\n",
        "axes[3, 1].set_title(\"OS Genuine State Distribution\")\n",
        "\n",
        "sns.countplot(y=train_data['LicenseActivationChannel'], order=train_data['LicenseActivationChannel'].value_counts().index, ax=axes[3, 2], palette='viridis')\n",
        "axes[3, 2].set_title(\"License Activation Channel Distribution\")\n",
        "\n",
        "sns.countplot(y=train_data['FlightRing'], order=train_data['FlightRing'].value_counts().index, ax=axes[3, 3], palette='viridis')\n",
        "axes[3, 3].set_title(\"Flight Ring Distribution\")\n",
        "\n",
        "plt.tight_layout()\n",
        "plt.show()"
      ],
      "metadata": {
        "trusted": true,
        "execution": {
          "iopub.status.busy": "2025-03-12T12:13:13.558772Z",
          "iopub.execute_input": "2025-03-12T12:13:13.559021Z",
          "iopub.status.idle": "2025-03-12T12:13:16.677852Z",
          "shell.execute_reply.started": "2025-03-12T12:13:13.559Z",
          "shell.execute_reply": "2025-03-12T12:13:16.676684Z"
        },
        "id": "pWo01bay-AKR"
      },
      "outputs": [],
      "execution_count": null
    },
    {
      "cell_type": "code",
      "source": [
        "# Visualizing key categorical variables\n",
        "fig, axes = plt.subplots(3, 2, figsize=(17, 17))\n",
        "\n",
        "sns.countplot(y=train_data['EngineVersion'], order=train_data['EngineVersion'].value_counts().index, ax=axes[0, 0], palette='viridis')\n",
        "axes[0, 0].set_title(\"Engine Version Distribution\")\n",
        "\n",
        "sns.countplot(y=train_data['ChassisType'], order=train_data['ChassisType'].value_counts().index, ax=axes[0, 1], palette='plasma')\n",
        "axes[0, 1].set_title(\"Chassis Type Distribution\")\n",
        "\n",
        "sns.countplot(y=train_data['OSEdition'], order=train_data['OSEdition'].value_counts().index, ax=axes[1, 0], palette='coolwarm')\n",
        "axes[1, 0].set_title(\"OS Edition Distribution\")\n",
        "\n",
        "sns.countplot(y=train_data['OSSkuFriendlyName'], order=train_data['OSSkuFriendlyName'].value_counts().index, ax=axes[1, 1], palette='magma')\n",
        "axes[1, 1].set_title(\"OSSku Friendly Name Distribution\")\n",
        "\n",
        "sns.countplot(y=train_data['AutoUpdateOptionsName'], order=train_data['AutoUpdateOptionsName'].value_counts().index, ax=axes[2, 0], palette='magma')\n",
        "axes[2, 0].set_title(\"Auto Update Options Name Distribution\")\n",
        "\n",
        "sns.countplot(y=train_data['AppVersion'], order=train_data['AppVersion'].value_counts().index, ax=axes[2, 1], palette='magma')\n",
        "axes[2, 1].set_title(\"App Version Distribution\")\n",
        "\n",
        "plt.tight_layout()\n",
        "plt.show()\n"
      ],
      "metadata": {
        "trusted": true,
        "execution": {
          "iopub.status.busy": "2025-03-12T12:13:16.679124Z",
          "iopub.execute_input": "2025-03-12T12:13:16.679489Z",
          "iopub.status.idle": "2025-03-12T12:13:20.390693Z",
          "shell.execute_reply.started": "2025-03-12T12:13:16.679456Z",
          "shell.execute_reply": "2025-03-12T12:13:20.389384Z"
        },
        "id": "hux9fzft-AKR"
      },
      "outputs": [],
      "execution_count": null
    },
    {
      "cell_type": "markdown",
      "source": [
        "# Data Cleaning"
      ],
      "metadata": {
        "id": "lbM1bg19-AKR"
      }
    },
    {
      "cell_type": "code",
      "source": [
        "# Remove duplicate rows from the training dataset to ensure each entry is unique\n",
        "# This helps prevent model bias and improves the quality of the training data\n",
        "train_data.drop_duplicates(inplace=True)"
      ],
      "metadata": {
        "trusted": true,
        "execution": {
          "iopub.status.busy": "2025-03-12T17:44:22.262866Z",
          "iopub.execute_input": "2025-03-12T17:44:22.263242Z",
          "iopub.status.idle": "2025-03-12T17:44:22.667764Z",
          "shell.execute_reply.started": "2025-03-12T17:44:22.26321Z",
          "shell.execute_reply": "2025-03-12T17:44:22.666701Z"
        },
        "id": "mf0h8wSj-AKS"
      },
      "outputs": [],
      "execution_count": null
    },
    {
      "cell_type": "code",
      "source": [
        "# Drop irrelevant or redundant columns to reduce noise and prevent overfitting\n",
        "train_data_cleaned = train_data.drop(columns=[\n",
        "    'IsBetaUser', 'AutoSampleSubmissionEnabled', 'IsFlightsDisabled',\n",
        "    'GeoRegionID', 'ChassisType', 'MachineID', 'ProcessorManufacturerID',\n",
        "    'ProcessorModelID', 'EnableLUA'\n",
        "])"
      ],
      "metadata": {
        "trusted": true,
        "execution": {
          "iopub.status.busy": "2025-03-12T17:44:22.669103Z",
          "iopub.execute_input": "2025-03-12T17:44:22.669448Z",
          "iopub.status.idle": "2025-03-12T17:44:22.70255Z",
          "shell.execute_reply.started": "2025-03-12T17:44:22.669421Z",
          "shell.execute_reply": "2025-03-12T17:44:22.701362Z"
        },
        "id": "Y9XFEQAT-AKS"
      },
      "outputs": [],
      "execution_count": null
    },
    {
      "cell_type": "markdown",
      "source": [
        "1. These columns provide no useful information because they have **constant values** (always 0):\n",
        "\n",
        "* IsBetaUser\n",
        "* AutoSampleSubmissionEnabled\n",
        "* IsFlightsDisabled\n",
        "2. When features are highly correlated (multicollinearity), they can **confuse models** and increase training time.\n",
        "    * GeoRegionID **(keep CountryID)**\n",
        "    * ChassisType **(keep InternalBatteryNumberOfCharges)**\n",
        "    \n"
      ],
      "metadata": {
        "id": "7fenmkqr-AKS"
      }
    },
    {
      "cell_type": "code",
      "source": [
        "# Separate features and target\n",
        "X = train_data_cleaned.drop(columns=['target'])\n",
        "y = train_data_cleaned['target']\n",
        "\n",
        "# X = train_data.drop(columns=['target'])\n",
        "# y = train_data['target']"
      ],
      "metadata": {
        "trusted": true,
        "execution": {
          "iopub.status.busy": "2025-03-12T17:44:23.355866Z",
          "iopub.execute_input": "2025-03-12T17:44:23.356353Z",
          "iopub.status.idle": "2025-03-12T17:44:23.387763Z",
          "shell.execute_reply.started": "2025-03-12T17:44:23.356317Z",
          "shell.execute_reply": "2025-03-12T17:44:23.386222Z"
        },
        "id": "sEqpLXD0-AKT"
      },
      "outputs": [],
      "execution_count": null
    },
    {
      "cell_type": "code",
      "source": [
        "# Getting numerical feature names as a list\n",
        "numerical_features = X.select_dtypes(include=['float64', 'int64']).columns.tolist()\n",
        "\n",
        "# Getting categorical feature names as a list\n",
        "categorical_features = X.select_dtypes(include='object').columns.tolist()"
      ],
      "metadata": {
        "trusted": true,
        "execution": {
          "iopub.status.busy": "2025-03-12T17:44:23.675864Z",
          "iopub.execute_input": "2025-03-12T17:44:23.676262Z",
          "iopub.status.idle": "2025-03-12T17:44:23.71611Z",
          "shell.execute_reply.started": "2025-03-12T17:44:23.676228Z",
          "shell.execute_reply": "2025-03-12T17:44:23.71484Z"
        },
        "id": "X3C1vRSC-AKT"
      },
      "outputs": [],
      "execution_count": null
    },
    {
      "cell_type": "markdown",
      "source": [
        "# Data Preprocessing"
      ],
      "metadata": {
        "id": "JbVLudq--AKT"
      }
    },
    {
      "cell_type": "code",
      "source": [
        "numerical_pipeline = Pipeline([\n",
        "    ('imputer', SimpleImputer(strategy='mean')),  # Handle missing values\n",
        "    ('scaler', StandardScaler())  # Scale numerical features\n",
        "])\n",
        "\n",
        "categorical_pipeline = Pipeline([\n",
        "    ('imputer', SimpleImputer(strategy='most_frequent')), # Handle missing values\n",
        "    ('onehot', OneHotEncoder(handle_unknown='ignore')), # One-hot encode\n",
        "])"
      ],
      "metadata": {
        "trusted": true,
        "execution": {
          "iopub.status.busy": "2025-03-12T17:44:24.235897Z",
          "iopub.execute_input": "2025-03-12T17:44:24.236346Z",
          "iopub.status.idle": "2025-03-12T17:44:24.241821Z",
          "shell.execute_reply.started": "2025-03-12T17:44:24.236312Z",
          "shell.execute_reply": "2025-03-12T17:44:24.240672Z"
        },
        "id": "tvEGhrYx-AKT"
      },
      "outputs": [],
      "execution_count": null
    },
    {
      "cell_type": "code",
      "source": [
        "preprocessor = ColumnTransformer([\n",
        "    ('categorical_processing', categorical_pipeline, categorical_features),\n",
        "    ('numerical_processing', numerical_pipeline, numerical_features)\n",
        "], remainder='drop')\n",
        "\n",
        "preprocessor"
      ],
      "metadata": {
        "trusted": true,
        "execution": {
          "iopub.status.busy": "2025-03-12T17:44:24.515859Z",
          "iopub.execute_input": "2025-03-12T17:44:24.516313Z",
          "iopub.status.idle": "2025-03-12T17:44:24.548745Z",
          "shell.execute_reply.started": "2025-03-12T17:44:24.516278Z",
          "shell.execute_reply": "2025-03-12T17:44:24.547695Z"
        },
        "id": "Yydl5fG1-AKU"
      },
      "outputs": [],
      "execution_count": null
    },
    {
      "cell_type": "code",
      "source": [
        "# Split into train and test sets\n",
        "X_train, X_val, y_train, y_val = train_test_split(X, y, test_size=0.2, random_state=0)\n",
        "\n",
        "X_train.shape, X_val.shape"
      ],
      "metadata": {
        "trusted": true,
        "execution": {
          "iopub.status.busy": "2025-03-12T17:44:24.745795Z",
          "iopub.execute_input": "2025-03-12T17:44:24.746217Z",
          "iopub.status.idle": "2025-03-12T17:44:24.840344Z",
          "shell.execute_reply.started": "2025-03-12T17:44:24.746147Z",
          "shell.execute_reply": "2025-03-12T17:44:24.839107Z"
        },
        "id": "OAOcGB0o-AKU"
      },
      "outputs": [],
      "execution_count": null
    },
    {
      "cell_type": "markdown",
      "source": [
        "## Feature Scaling"
      ],
      "metadata": {
        "id": "QC4ET6ia-AKU"
      }
    },
    {
      "cell_type": "code",
      "source": [
        "numerical_Pipeline = Pipeline([\n",
        "    ('imputer', SimpleImputer(strategy='mean')),  # Handle missing values\n",
        "    ('scaler', StandardScaler()),  # Scale numerical features\n",
        "    ('pca' , PCA(n_components=25))\n",
        "])\n",
        "\n",
        "categorical_Pipeline = Pipeline([\n",
        "    ('imputer', SimpleImputer(strategy='most_frequent')), # Handle missing values\n",
        "    ('onehot', OneHotEncoder(handle_unknown='ignore')), # One-hot encode\n",
        "    ('select_best', SelectKBest(chi2, k=15))\n",
        "])"
      ],
      "metadata": {
        "trusted": true,
        "execution": {
          "iopub.status.busy": "2025-03-12T17:44:30.375974Z",
          "iopub.execute_input": "2025-03-12T17:44:30.37639Z",
          "iopub.status.idle": "2025-03-12T17:44:30.383053Z",
          "shell.execute_reply.started": "2025-03-12T17:44:30.376358Z",
          "shell.execute_reply": "2025-03-12T17:44:30.381855Z"
        },
        "id": "TS0TgWQR-AKU"
      },
      "outputs": [],
      "execution_count": null
    },
    {
      "cell_type": "code",
      "source": [
        "Preprocessor = ColumnTransformer([\n",
        "    ('categorical_processing', categorical_Pipeline, categorical_features),\n",
        "    ('numerical_processing', numerical_Pipeline, numerical_features)\n",
        "], remainder='drop')\n",
        "\n",
        "Preprocessor"
      ],
      "metadata": {
        "trusted": true,
        "execution": {
          "iopub.status.busy": "2025-03-12T17:44:30.576305Z",
          "iopub.execute_input": "2025-03-12T17:44:30.576676Z",
          "iopub.status.idle": "2025-03-12T17:44:30.615031Z",
          "shell.execute_reply.started": "2025-03-12T17:44:30.576645Z",
          "shell.execute_reply": "2025-03-12T17:44:30.613707Z"
        },
        "id": "7sRooOlC-AKU"
      },
      "outputs": [],
      "execution_count": null
    },
    {
      "cell_type": "markdown",
      "source": [
        "# Model Building"
      ],
      "metadata": {
        "id": "d3pSo89W-AKV"
      }
    },
    {
      "cell_type": "markdown",
      "source": [
        "## LogisticRegression"
      ],
      "metadata": {
        "id": "1NTfubtS-AKa"
      }
    },
    {
      "cell_type": "code",
      "source": [
        "# Define the pipeline\n",
        "logistic_model_pipeline = Pipeline(steps=[\n",
        "    (\"preprocessor\", preprocessor),\n",
        "    (\"logistic\", LogisticRegression(random_state = 0, max_iter=600))\n",
        "])\n",
        "\n",
        "# Train the model\n",
        "logistic_model_pipeline.fit(X_train, y_train)"
      ],
      "metadata": {
        "trusted": true,
        "execution": {
          "iopub.status.busy": "2025-03-12T12:13:21.126037Z",
          "iopub.execute_input": "2025-03-12T12:13:21.12631Z",
          "iopub.status.idle": "2025-03-12T12:13:35.706248Z",
          "shell.execute_reply.started": "2025-03-12T12:13:21.126286Z",
          "shell.execute_reply": "2025-03-12T12:13:35.705294Z"
        },
        "id": "WgjN0tta-AKb"
      },
      "outputs": [],
      "execution_count": null
    },
    {
      "cell_type": "code",
      "source": [
        "logistic_accuracy=logistic_model_pipeline.score(X_val, y_val)\n",
        "print(f\"Logistic Regression Accuracy: {logistic_accuracy:.4f}\")"
      ],
      "metadata": {
        "trusted": true,
        "execution": {
          "iopub.status.busy": "2025-03-12T12:13:35.70732Z",
          "iopub.execute_input": "2025-03-12T12:13:35.707624Z",
          "iopub.status.idle": "2025-03-12T12:13:35.955571Z",
          "shell.execute_reply.started": "2025-03-12T12:13:35.707598Z",
          "shell.execute_reply": "2025-03-12T12:13:35.954375Z"
        },
        "id": "7L_Ufb9g-AKc"
      },
      "outputs": [],
      "execution_count": null
    },
    {
      "cell_type": "markdown",
      "source": [
        "### LogisticRegression with feature scaling pipeline"
      ],
      "metadata": {
        "id": "ep5dmfLh-AKc"
      }
    },
    {
      "cell_type": "code",
      "source": [
        "# Define the pipeline\n",
        "Logistic_model_pipeline = Pipeline(steps=[\n",
        "    (\"Preprocessor\", Preprocessor),\n",
        "    (\"logistic\", LogisticRegression(random_state = 0, max_iter=600))\n",
        "])\n",
        "\n",
        "# Train the model\n",
        "Logistic_model_pipeline.fit(X_train, y_train)"
      ],
      "metadata": {
        "trusted": true,
        "execution": {
          "iopub.status.busy": "2025-03-12T12:13:35.956684Z",
          "iopub.execute_input": "2025-03-12T12:13:35.957067Z",
          "iopub.status.idle": "2025-03-12T12:13:39.570046Z",
          "shell.execute_reply.started": "2025-03-12T12:13:35.957031Z",
          "shell.execute_reply": "2025-03-12T12:13:39.568585Z"
        },
        "id": "8o1tnEAd-AKc"
      },
      "outputs": [],
      "execution_count": null
    },
    {
      "cell_type": "code",
      "source": [
        "Logistic_accuracy=Logistic_model_pipeline.score(X_val, y_val)\n",
        "print(f\"Logistic Regression Accuracy after feature scaling: {Logistic_accuracy:.4f}\")"
      ],
      "metadata": {
        "trusted": true,
        "execution": {
          "iopub.status.busy": "2025-03-12T12:13:39.571705Z",
          "iopub.execute_input": "2025-03-12T12:13:39.571999Z",
          "iopub.status.idle": "2025-03-12T12:13:39.795165Z",
          "shell.execute_reply.started": "2025-03-12T12:13:39.571975Z",
          "shell.execute_reply": "2025-03-12T12:13:39.792476Z"
        },
        "id": "aTdP5v0O-AKd"
      },
      "outputs": [],
      "execution_count": null
    },
    {
      "cell_type": "markdown",
      "source": [
        "**Observation**\n",
        "* Feature scaling led to a subtle yet meaningful improvement in the *Logistic Regression model's* accuracy, rising from *0.6094* to *0.6115*. This demonstrates how scaling helps standardize feature contributions, refining the model’s performance and stability. 🚀📊"
      ],
      "metadata": {
        "id": "yVWumTzS-AKd"
      }
    },
    {
      "cell_type": "markdown",
      "source": [
        "## SGDClassifier"
      ],
      "metadata": {
        "id": "NZAvWG69-AKd"
      }
    },
    {
      "cell_type": "code",
      "source": [
        "# Define the pipeline\n",
        "sgd_model_pipeline = Pipeline(steps=[\n",
        "    (\"preprocessor\", preprocessor),\n",
        "    ('sgd_classifier', SGDClassifier(random_state=0))\n",
        "])\n",
        "\n",
        "# Train the model\n",
        "sgd_model_pipeline.fit(X_train, y_train)"
      ],
      "metadata": {
        "trusted": true,
        "execution": {
          "iopub.status.busy": "2025-03-12T12:13:39.796379Z",
          "iopub.execute_input": "2025-03-12T12:13:39.796901Z",
          "iopub.status.idle": "2025-03-12T12:13:43.474271Z",
          "shell.execute_reply.started": "2025-03-12T12:13:39.796857Z",
          "shell.execute_reply": "2025-03-12T12:13:43.473168Z"
        },
        "id": "p5in4YsN-AKd"
      },
      "outputs": [],
      "execution_count": null
    },
    {
      "cell_type": "code",
      "source": [
        "sgd_accuracy = sgd_model_pipeline.score(X_val, y_val)\n",
        "print(f\"SGD Classifier Accuracy: {sgd_accuracy:.4f}\")"
      ],
      "metadata": {
        "trusted": true,
        "execution": {
          "iopub.status.busy": "2025-03-12T12:13:43.475322Z",
          "iopub.execute_input": "2025-03-12T12:13:43.475648Z",
          "iopub.status.idle": "2025-03-12T12:13:43.727603Z",
          "shell.execute_reply.started": "2025-03-12T12:13:43.47562Z",
          "shell.execute_reply": "2025-03-12T12:13:43.72654Z"
        },
        "id": "_t_9ZYzt-AKe"
      },
      "outputs": [],
      "execution_count": null
    },
    {
      "cell_type": "markdown",
      "source": [
        "### Hyperparameter Tuning"
      ],
      "metadata": {
        "id": "iXQYlD95-AKe"
      }
    },
    {
      "cell_type": "code",
      "source": [
        "param_grid = {\n",
        "    'sgd_classifier__alpha': [0.0001, 0.001, 0.01, 0.1],\n",
        "    'sgd_classifier__penalty': ['l1', 'l2', 'elasticnet'],\n",
        "    'sgd_classifier__learning_rate': ['constant', 'optimal', 'adaptive'],\n",
        "}\n",
        "\n",
        "grid_search = GridSearchCV(sgd_model_pipeline, param_grid, cv=3, scoring='accuracy', verbose=1)\n",
        "grid_search.fit(X_train, y_train)\n",
        "\n",
        "best_pipeline = grid_search.best_estimator_\n",
        "best_pipeline"
      ],
      "metadata": {
        "trusted": true,
        "execution": {
          "iopub.status.busy": "2025-03-12T12:13:43.728595Z",
          "iopub.execute_input": "2025-03-12T12:13:43.728932Z",
          "iopub.status.idle": "2025-03-12T12:16:10.656208Z",
          "shell.execute_reply.started": "2025-03-12T12:13:43.728905Z",
          "shell.execute_reply": "2025-03-12T12:16:10.655077Z"
        },
        "id": "y2s1b3kE-AKe"
      },
      "outputs": [],
      "execution_count": null
    },
    {
      "cell_type": "code",
      "source": [
        "SGD_accuracy = best_pipeline.score(X_val, y_val)\n",
        "print(f\"SGD Classifier Accuracy after hyperparameter tuning: {SGD_accuracy:.4f}\")"
      ],
      "metadata": {
        "trusted": true,
        "execution": {
          "iopub.status.busy": "2025-03-12T12:16:10.657396Z",
          "iopub.execute_input": "2025-03-12T12:16:10.65799Z",
          "iopub.status.idle": "2025-03-12T12:16:10.912091Z",
          "shell.execute_reply.started": "2025-03-12T12:16:10.657944Z",
          "shell.execute_reply": "2025-03-12T12:16:10.911053Z"
        },
        "id": "4rU6DTt6-AKe"
      },
      "outputs": [],
      "execution_count": null
    },
    {
      "cell_type": "markdown",
      "source": [
        "**Observation**\n",
        "* With hyperparameter tuning, the *SGD Classifier* saw a significant improvement, elevating its accuracy from *0.6050* to *0.6137*. This highlights the impact of fine-tuning in unlocking better model performance and precision. 🔥📈"
      ],
      "metadata": {
        "id": "rguMREpK-AKe"
      }
    },
    {
      "cell_type": "markdown",
      "source": [
        "## RandomForestClassifier"
      ],
      "metadata": {
        "id": "rDoLP_7j-AKf"
      }
    },
    {
      "cell_type": "code",
      "source": [
        "# Define the pipeline\n",
        "random_model_pipeline = Pipeline(steps=[\n",
        "    (\"preprocessor\", preprocessor),\n",
        "    (\"classifier\", RandomForestClassifier(n_estimators=100, random_state=0))\n",
        "])\n",
        "\n",
        "# Train the model\n",
        "random_model_pipeline.fit(X_train, y_train)\n"
      ],
      "metadata": {
        "trusted": true,
        "execution": {
          "iopub.status.busy": "2025-03-12T12:16:10.91319Z",
          "iopub.execute_input": "2025-03-12T12:16:10.913503Z",
          "iopub.status.idle": "2025-03-12T12:22:40.4723Z",
          "shell.execute_reply.started": "2025-03-12T12:16:10.913478Z",
          "shell.execute_reply": "2025-03-12T12:22:40.47129Z"
        },
        "id": "LFaLtJVo-AKf"
      },
      "outputs": [],
      "execution_count": null
    },
    {
      "cell_type": "code",
      "source": [
        "rf_accuracy=random_model_pipeline.score(X_val, y_val)\n",
        "print(f\"Random Forest Accuracy: {rf_accuracy}\")"
      ],
      "metadata": {
        "trusted": true,
        "execution": {
          "iopub.status.busy": "2025-03-12T12:22:40.473459Z",
          "iopub.execute_input": "2025-03-12T12:22:40.473769Z",
          "iopub.status.idle": "2025-03-12T12:22:42.140499Z",
          "shell.execute_reply.started": "2025-03-12T12:22:40.473742Z",
          "shell.execute_reply": "2025-03-12T12:22:42.139628Z"
        },
        "id": "xiKb4Zu4-AKf"
      },
      "outputs": [],
      "execution_count": null
    },
    {
      "cell_type": "markdown",
      "source": [
        "## XGBClassifier"
      ],
      "metadata": {
        "id": "exIy_NpZ-AKg"
      }
    },
    {
      "cell_type": "code",
      "source": [
        "# Define the pipeline\n",
        "xgb_model_pipeline = Pipeline(steps=[\n",
        "    (\"preprocessor\", preprocessor),\n",
        "    (\"classifier\", XGBClassifier(random_state=0))\n",
        "])\n",
        "\n",
        "# Train the model\n",
        "xgb_model_pipeline.fit(X_train, y_train)\n"
      ],
      "metadata": {
        "trusted": true,
        "execution": {
          "iopub.status.busy": "2025-03-12T12:22:42.141374Z",
          "iopub.execute_input": "2025-03-12T12:22:42.141686Z",
          "iopub.status.idle": "2025-03-12T12:22:45.450436Z",
          "shell.execute_reply.started": "2025-03-12T12:22:42.141659Z",
          "shell.execute_reply": "2025-03-12T12:22:45.449355Z"
        },
        "id": "FidbjMm8-AKg"
      },
      "outputs": [],
      "execution_count": null
    },
    {
      "cell_type": "code",
      "source": [
        "xgb_accuracy=xgb_model_pipeline.score(X_val, y_val)\n",
        "print(f\"XGBoost Accuracy: {xgb_accuracy}\")"
      ],
      "metadata": {
        "trusted": true,
        "execution": {
          "iopub.status.busy": "2025-03-12T12:22:45.451562Z",
          "iopub.execute_input": "2025-03-12T12:22:45.451896Z",
          "iopub.status.idle": "2025-03-12T12:22:45.749734Z",
          "shell.execute_reply.started": "2025-03-12T12:22:45.451856Z",
          "shell.execute_reply": "2025-03-12T12:22:45.747708Z"
        },
        "id": "OpJ5UuZF-AKg"
      },
      "outputs": [],
      "execution_count": null
    },
    {
      "cell_type": "markdown",
      "source": [
        "### XGBClassifier with feature scaling pipeline"
      ],
      "metadata": {
        "id": "NX7DWdvU-AKg"
      }
    },
    {
      "cell_type": "code",
      "source": [
        "# Define the pipeline\n",
        "XGB_model_pipeline = Pipeline(steps=[\n",
        "    (\"Preprocessor\", Preprocessor),\n",
        "    (\"classifier\", XGBClassifier(random_state=0))\n",
        "])\n",
        "\n",
        "# Train the model\n",
        "XGB_model_pipeline.fit(X_train, y_train)"
      ],
      "metadata": {
        "trusted": true,
        "execution": {
          "iopub.status.busy": "2025-03-12T12:22:45.750384Z",
          "iopub.execute_input": "2025-03-12T12:22:45.750686Z",
          "iopub.status.idle": "2025-03-12T12:22:49.451775Z",
          "shell.execute_reply.started": "2025-03-12T12:22:45.750661Z",
          "shell.execute_reply": "2025-03-12T12:22:49.450673Z"
        },
        "id": "WUx3lSk4-AKh"
      },
      "outputs": [],
      "execution_count": null
    },
    {
      "cell_type": "code",
      "source": [
        "XGB_accuracy=XGB_model_pipeline.score(X_val, y_val)\n",
        "print(f\"XGBoost Accuracy after feature scaling: {XGB_accuracy}\")"
      ],
      "metadata": {
        "trusted": true,
        "execution": {
          "iopub.status.busy": "2025-03-12T12:22:49.452931Z",
          "iopub.execute_input": "2025-03-12T12:22:49.453314Z",
          "iopub.status.idle": "2025-03-12T12:22:49.800569Z",
          "shell.execute_reply.started": "2025-03-12T12:22:49.453276Z",
          "shell.execute_reply": "2025-03-12T12:22:49.79783Z"
        },
        "id": "7hHF8eg2-AKh"
      },
      "outputs": [],
      "execution_count": null
    },
    {
      "cell_type": "markdown",
      "source": [
        "📊 **Observation on XGBoost Model Performance**\n",
        "* Before Feature Scaling: ✅ Accuracy = 62.32%\n",
        "* After Feature Scaling: ❌ Accuracy = 60.01%\n",
        "\n",
        "🔍 **Key Insight:**\n",
        "* Feature scaling resulted in a *2.11% drop in accuracy*, indicating that *XGBoost does not benefit from scaling* since it is a *tree-based model*. Unlike linear models, XGBoost makes decisions based on *feature splits*, not numerical magnitudes, making scaling unnecessary."
      ],
      "metadata": {
        "id": "HA_xvoON-AKh"
      }
    },
    {
      "cell_type": "markdown",
      "source": [
        "## LGBMClassifier"
      ],
      "metadata": {
        "id": "O47pTI1k-AKh"
      }
    },
    {
      "cell_type": "code",
      "source": [
        "# Define the pipeline\n",
        "lgbm_model_pipeline = Pipeline(steps=[\n",
        "    (\"preprocessor\", preprocessor),\n",
        "    (\"classifier\", LGBMClassifier(n_estimators=400, learning_rate=0.05, max_depth=30, random_state=0, n_jobs=-1))\n",
        "])\n",
        "\n",
        "# Train the model\n",
        "lgbm_model_pipeline.fit(X_train, y_train)"
      ],
      "metadata": {
        "trusted": true,
        "execution": {
          "iopub.status.busy": "2025-03-12T12:22:49.801615Z",
          "iopub.execute_input": "2025-03-12T12:22:49.802124Z",
          "iopub.status.idle": "2025-03-12T12:22:56.662705Z",
          "shell.execute_reply.started": "2025-03-12T12:22:49.802093Z",
          "shell.execute_reply": "2025-03-12T12:22:56.661066Z"
        },
        "id": "7NnA9NZ2-AKi"
      },
      "outputs": [],
      "execution_count": null
    },
    {
      "cell_type": "code",
      "source": [
        "lgbm_accuracy=lgbm_model_pipeline.score(X_val, y_val)\n",
        "print(f\"LightGBM Accuracy: {lgbm_accuracy}\")"
      ],
      "metadata": {
        "trusted": true,
        "execution": {
          "iopub.status.busy": "2025-03-12T12:22:56.663725Z",
          "iopub.execute_input": "2025-03-12T12:22:56.664178Z",
          "iopub.status.idle": "2025-03-12T12:22:57.128451Z",
          "shell.execute_reply.started": "2025-03-12T12:22:56.664131Z",
          "shell.execute_reply": "2025-03-12T12:22:57.126569Z"
        },
        "id": "gEuUnyfg-AKi"
      },
      "outputs": [],
      "execution_count": null
    },
    {
      "cell_type": "code",
      "source": [
        "# y_pred=lgbm_model_pipeline.predict(test_data)\n",
        "\n",
        "# submission=pd.DataFrame({\"id\":range(0,test_data.shape[0]),\n",
        "#                          \"target\":y_pred\n",
        "# })\n",
        "\n",
        "# submission.to_csv('submission.csv',index=False)"
      ],
      "metadata": {
        "trusted": true,
        "execution": {
          "iopub.status.busy": "2025-03-12T12:22:57.129114Z",
          "iopub.execute_input": "2025-03-12T12:22:57.129389Z",
          "iopub.status.idle": "2025-03-12T12:22:57.135856Z",
          "shell.execute_reply.started": "2025-03-12T12:22:57.129364Z",
          "shell.execute_reply": "2025-03-12T12:22:57.132585Z"
        },
        "id": "ofEfHq2r-AKj"
      },
      "outputs": [],
      "execution_count": null
    },
    {
      "cell_type": "markdown",
      "source": [
        "### LGBMClassifier with feature scaling pipeline"
      ],
      "metadata": {
        "id": "fNILlCYu-AKj"
      }
    },
    {
      "cell_type": "code",
      "source": [
        "# Define the pipeline\n",
        "LGBM_model_pipeline = Pipeline(steps=[\n",
        "    (\"Preprocessor\", Preprocessor),\n",
        "    (\"classifier\", LGBMClassifier(random_state=0, n_jobs=-1))\n",
        "])\n",
        "\n",
        "# Train the model\n",
        "LGBM_model_pipeline.fit(X_train, y_train)"
      ],
      "metadata": {
        "trusted": true,
        "execution": {
          "iopub.status.busy": "2025-03-12T12:22:57.136537Z",
          "iopub.execute_input": "2025-03-12T12:22:57.136819Z",
          "iopub.status.idle": "2025-03-12T12:23:00.802867Z",
          "shell.execute_reply.started": "2025-03-12T12:22:57.136794Z",
          "shell.execute_reply": "2025-03-12T12:23:00.801695Z"
        },
        "id": "Xu8-Lna4-AKj"
      },
      "outputs": [],
      "execution_count": null
    },
    {
      "cell_type": "code",
      "source": [
        "LGBM_accuracy=LGBM_model_pipeline.score(X_val, y_val)\n",
        "print(f\"LightGBM Accuracy after feature scaling: {LGBM_accuracy}\")"
      ],
      "metadata": {
        "trusted": true,
        "execution": {
          "iopub.status.busy": "2025-03-12T12:23:00.803933Z",
          "iopub.execute_input": "2025-03-12T12:23:00.804313Z",
          "iopub.status.idle": "2025-03-12T12:23:01.135594Z",
          "shell.execute_reply.started": "2025-03-12T12:23:00.804281Z",
          "shell.execute_reply": "2025-03-12T12:23:01.134538Z"
        },
        "id": "KLzfdeQ3-AKk"
      },
      "outputs": [],
      "execution_count": null
    },
    {
      "cell_type": "markdown",
      "source": [
        "📊 **Observation on LightGBM Model Performance**\n",
        "* Before Feature Scaling: ✅ Accuracy = 63.25%\n",
        "* After Feature Scaling: ❌ Accuracy = 61.31%\n",
        "\n",
        "🔍 **Key Insight:**\n",
        "* Applying *feature scaling reduced the model's accuracy* by approximately *2%*. Since *LightGBM does not require feature scaling*, this drop suggests that scaling may have *distorted feature distributions*, leading to suboptimal splits in decision trees."
      ],
      "metadata": {
        "id": "Z37qcDAC-AKk"
      }
    },
    {
      "cell_type": "markdown",
      "source": [
        "# Comparing Model Performance"
      ],
      "metadata": {
        "id": "Vx9yTi6p-AKk"
      }
    },
    {
      "cell_type": "code",
      "source": [
        "# Define model names and their corresponding accuracy scores\n",
        "models = [\"Logistic Regression\", \"SGD Classifier\", \"Random Forest\", \"XGBoost\", \"LightGBM\"]\n",
        "accuracies = [logistic_accuracy, SGD_accuracy, rf_accuracy, xgb_accuracy, lgbm_accuracy]\n",
        "\n",
        "# Set figure size and style\n",
        "plt.figure(figsize=(10, 6))\n",
        "sns.set_style(\"whitegrid\")\n",
        "\n",
        "# Creating barplot\n",
        "ax = sns.barplot(x=models, y=accuracies, palette=\"viridis\")\n",
        "\n",
        "# Adding accuracy values on top of the bars\n",
        "for index, value in enumerate(accuracies):\n",
        "    plt.text(index, value + 0.005, f\"{value:.4f}\", ha='center', fontsize=12, fontweight='bold')\n",
        "\n",
        "# Customize graph appearance\n",
        "plt.ylim(min(accuracies) - 0.02, max(accuracies) + 0.02)  # Adjust y-axis range\n",
        "plt.xlabel(\"Models\", fontsize=14, fontweight=\"bold\")\n",
        "plt.ylabel(\"Accuracy\", fontsize=14, fontweight=\"bold\")\n",
        "plt.title(\"Model Performance Comparison\", fontsize=16, fontweight=\"bold\", color='darkblue')\n",
        "\n",
        "# Rotate x-axis labels for better readability\n",
        "plt.xticks(rotation=15)\n",
        "\n",
        "# Display the plot\n",
        "plt.show()\n"
      ],
      "metadata": {
        "trusted": true,
        "execution": {
          "iopub.status.busy": "2025-03-12T12:23:01.136277Z",
          "iopub.execute_input": "2025-03-12T12:23:01.136604Z",
          "iopub.status.idle": "2025-03-12T12:23:01.476723Z",
          "shell.execute_reply.started": "2025-03-12T12:23:01.136567Z",
          "shell.execute_reply": "2025-03-12T12:23:01.475585Z"
        },
        "id": "uSIPmH5W-AKl"
      },
      "outputs": [],
      "execution_count": null
    },
    {
      "cell_type": "markdown",
      "source": [
        "**Observations:**\n",
        "* *LightGBM* achieved the highest accuracy (0.6326), making it the best-performing model in this comparison.\n",
        "* *XGBoost* followed closely (0.6232), showing strong performance among ensemble methods.\n",
        "* *Random Forest* performed moderately (0.6191), slightly lower than XGBoost.\n",
        "* *Logistic Regression* (0.6094) and *SGD Classifier* (0.6137) had the lowest accuracy, indicating that linear models may not be the best fit for this dataset.\n",
        "  \n",
        "**Key Takeaways:**\n",
        "* *Ensemble models (LightGBM & XGBoost) outperformed traditional classifiers*, highlighting their effectiveness in handling complex patterns.\n",
        "* *Linear models (Logistic Regression & SGD) underperformed*, suggesting that feature relationships may be non-linear.\n",
        "* *Further improvements could involve hyperparameter tuning*, feature engineering, or alternative preprocessing methods."
      ],
      "metadata": {
        "id": "05uQXl_R-AKl"
      }
    },
    {
      "cell_type": "markdown",
      "source": [
        "# Final Submission"
      ],
      "metadata": {
        "id": "tb5UffL--AKl"
      }
    },
    {
      "cell_type": "code",
      "source": [
        "# Define the pipeline\n",
        "final_model_pipeline = Pipeline(steps=[\n",
        "    (\"preprocessor\", preprocessor),\n",
        "    (\"classifier\", LGBMClassifier(n_estimators=400, learning_rate=0.05, max_depth=30, random_state=0, n_jobs=-1))\n",
        "])\n",
        "\n",
        "# Train the model\n",
        "final_model_pipeline.fit(X_train, y_train)"
      ],
      "metadata": {
        "trusted": true,
        "execution": {
          "iopub.status.busy": "2025-03-12T12:23:01.477782Z",
          "iopub.execute_input": "2025-03-12T12:23:01.478075Z",
          "iopub.status.idle": "2025-03-12T12:23:08.782086Z",
          "shell.execute_reply.started": "2025-03-12T12:23:01.478051Z",
          "shell.execute_reply": "2025-03-12T12:23:08.780924Z"
        },
        "id": "ejGAFhxo-AKl"
      },
      "outputs": [],
      "execution_count": null
    },
    {
      "cell_type": "code",
      "source": [
        "\n",
        "y_pred=final_model_pipeline.predict(test_data)\n",
        "\n",
        "submission=pd.DataFrame({\"id\":range(0,test_data.shape[0]),\n",
        "                         \"target\":y_pred\n",
        "})\n",
        "\n",
        "submission.to_csv('submission.csv',index=False)"
      ],
      "metadata": {
        "trusted": true,
        "execution": {
          "iopub.status.busy": "2025-03-12T12:23:08.783087Z",
          "iopub.execute_input": "2025-03-12T12:23:08.783486Z",
          "iopub.status.idle": "2025-03-12T12:23:09.026287Z",
          "shell.execute_reply.started": "2025-03-12T12:23:08.783439Z",
          "shell.execute_reply": "2025-03-12T12:23:09.025437Z"
        },
        "id": "-6ocZxkY-AKm"
      },
      "outputs": [],
      "execution_count": null
    }
  ]
}